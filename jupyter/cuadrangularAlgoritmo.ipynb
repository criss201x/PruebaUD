{
 "cells": [
  {
   "cell_type": "code",
   "execution_count": 1,
   "metadata": {},
   "outputs": [],
   "source": [
    "#pip install firebase\n",
    "\n",
    "#estos paquetes ayudan en caso de que se presenten problemas con la instalacion de firebase en python\n",
    "\n",
    "#pip install python_jwt\n",
    "#pip install gcloud\n",
    "#pip install pycrypto\n",
    "#pip install sseclient\n",
    "#pip install requests-toobelt"
   ]
  },
  {
   "cell_type": "code",
   "execution_count": 2,
   "metadata": {},
   "outputs": [],
   "source": [
    "from firebase import firebase"
   ]
  },
  {
   "cell_type": "code",
   "execution_count": 3,
   "metadata": {},
   "outputs": [],
   "source": [
    "import random\n",
    "from random import randint"
   ]
  },
  {
   "cell_type": "code",
   "execution_count": 4,
   "metadata": {},
   "outputs": [],
   "source": [
    "firebase = firebase.FirebaseApplication(\"https://pruebaud-25230.firebaseio.com/\",None)"
   ]
  },
  {
   "cell_type": "code",
   "execution_count": 5,
   "metadata": {},
   "outputs": [],
   "source": [
    "#no se agregan datos de momento\n",
    "#resultado=firebase.post('/equipos/datosEquipos',lista)\n",
    "#print(type(resultado))"
   ]
  },
  {
   "cell_type": "code",
   "execution_count": 6,
   "metadata": {},
   "outputs": [],
   "source": [
    "leer = firebase.get('/equipos/datosEquipos','')\n",
    "#convierte el tipo de dato dict a lista\n",
    "lista = [ value['nombreEquipo'] for key, value in leer.items() ]"
   ]
  },
  {
   "cell_type": "code",
   "execution_count": 7,
   "metadata": {},
   "outputs": [],
   "source": [
    "#nombreEq = random.choice(lista)\n",
    "#print(\"eliminado: \", nombreEq)\n",
    "#lista.remove(nombreEq)\n",
    "#lista"
   ]
  },
  {
   "cell_type": "code",
   "execution_count": 8,
   "metadata": {},
   "outputs": [],
   "source": [
    "#for i in range(len(lista)):    \n",
    "#print(lista[i])"
   ]
  },
  {
   "cell_type": "code",
   "execution_count": 9,
   "metadata": {},
   "outputs": [
    {
     "data": {
      "text/plain": [
       "[{'jornada numero: ': '1',\n",
       "  'equipos': ['Jaguares vs Millonarios',\n",
       "   'marcador: 2-5',\n",
       "   'Nacional vs Atletico Huila']},\n",
       " {'jornada numero: ': '2',\n",
       "  'equipos': ['Millonarios vs Atletico Huila',\n",
       "   'marcador: 0-1',\n",
       "   'Jaguares vs Nacional']},\n",
       " {'jornada numero: ': '3',\n",
       "  'equipos': ['Nacional vs Millonarios',\n",
       "   'marcador: 2-0',\n",
       "   'Atletico Huila vs Jaguares']}]"
      ]
     },
     "execution_count": 9,
     "metadata": {},
     "output_type": "execute_result"
    }
   ],
   "source": [
    "tope = 4\n",
    "#+str(i+1)\n",
    "# modificar el numero de clubes\n",
    "clubes = []\n",
    "index_clubes = 0\n",
    "for i in range(0,tope):\n",
    "   nombreEq = random.choice(lista) \n",
    "   clubes.append(nombreEq)\n",
    "   lista.remove(nombreEq) \n",
    "auxT = len(clubes)\n",
    "impar= True if auxT%2 != 0 else False\n",
    "\n",
    "if impar:\n",
    "   auxT += 1\n",
    "\n",
    "totalP = auxT//2 # total de partidos de una jornada\n",
    "jornada = []\n",
    "indiceInverso = auxT-2\n",
    "for i in range(1,auxT):\n",
    "   valoresA = randint(0, 5) \n",
    "   valoresB = randint(0, 5) \n",
    "   equipos = []\n",
    "   list_equipos = {}\n",
    "   for indiceP in range(0,totalP):\n",
    "      if index_clubes > auxT-2:\n",
    "         index_clubes = 0\n",
    "\n",
    "      if indiceInverso < 0:\n",
    "         indiceInverso = auxT-2\n",
    "\n",
    "      if indiceP == 0: # seria el partido inicial de cada fecha\n",
    "         if impar:\n",
    "            equipos.append(clubes[index_clubes])\n",
    "         else:\n",
    "            if (i+1)%2 == 0:\n",
    "               partido = [clubes[index_clubes], clubes[auxT-1]]\n",
    "            else:\n",
    "               partido = [clubes[auxT-1], clubes[index_clubes]]\n",
    "            equipos.append(\" vs \".join(partido))\n",
    "            equipos.append('marcador: ' + str(valoresA) + '-'+str(valoresB))\n",
    "            \n",
    "      else:\n",
    "         partido = [clubes[index_clubes], clubes[indiceInverso]]\n",
    "         equipos.append(\" vs \".join(partido))\n",
    "         indiceInverso -= 1\n",
    "      index_clubes += 1\n",
    "    #print(clubes)\n",
    "   list_equipos = {\n",
    "      'jornada numero: ':  str(i), \n",
    "      'equipos': equipos\n",
    "   }\n",
    "   jornada.append(list_equipos)\n",
    "jornada"
   ]
  },
  {
   "cell_type": "code",
   "execution_count": 10,
   "metadata": {},
   "outputs": [],
   "source": [
    "partidos=firebase.post('/partidos/fechas',jornada)"
   ]
  },
  {
   "cell_type": "code",
   "execution_count": null,
   "metadata": {},
   "outputs": [],
   "source": []
  },
  {
   "cell_type": "code",
   "execution_count": null,
   "metadata": {},
   "outputs": [],
   "source": []
  },
  {
   "cell_type": "code",
   "execution_count": null,
   "metadata": {},
   "outputs": [],
   "source": []
  },
  {
   "cell_type": "code",
   "execution_count": null,
   "metadata": {},
   "outputs": [],
   "source": []
  },
  {
   "cell_type": "code",
   "execution_count": null,
   "metadata": {},
   "outputs": [],
   "source": []
  },
  {
   "cell_type": "code",
   "execution_count": null,
   "metadata": {},
   "outputs": [],
   "source": []
  }
 ],
 "metadata": {
  "kernelspec": {
   "display_name": "Python 3",
   "language": "python",
   "name": "python3"
  },
  "language_info": {
   "codemirror_mode": {
    "name": "ipython",
    "version": 3
   },
   "file_extension": ".py",
   "mimetype": "text/x-python",
   "name": "python",
   "nbconvert_exporter": "python",
   "pygments_lexer": "ipython3",
   "version": "3.7.4"
  }
 },
 "nbformat": 4,
 "nbformat_minor": 4
}
